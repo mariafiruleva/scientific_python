{
 "cells": [
  {
   "cell_type": "markdown",
   "metadata": {},
   "source": [
    "## Imports"
   ]
  },
  {
   "cell_type": "code",
   "execution_count": 152,
   "metadata": {},
   "outputs": [],
   "source": [
    "import numpy as np"
   ]
  },
  {
   "cell_type": "markdown",
   "metadata": {},
   "source": [
    "## Functions"
   ]
  },
  {
   "cell_type": "code",
   "execution_count": 153,
   "metadata": {},
   "outputs": [],
   "source": [
    "def find_prot_seq(L: list) -> str:\n",
    "    \"\"\"\n",
    "    Task description: http://rosalind.info/problems/spec/\n",
    "    :param L: A list L of n (n≤100) positive real numbers.\n",
    "    :return: A protein string of length n−1 whose prefix spectrum is equal to L.\n",
    "    \"\"\"\n",
    "    mono_mass_table = {\n",
    "    'A': 71.0371,\n",
    "    'C': 103.0092,\n",
    "    'D': 115.0269,\n",
    "    'E': 129.0426,\n",
    "    'F': 147.0684,\n",
    "    'G': 57.0215,\n",
    "    'H': 137.0589,\n",
    "    'I': 113.0841,\n",
    "    'K': 128.095,\n",
    "    'L': 113.0841,\n",
    "    'M': 131.0405,\n",
    "    'N': 114.0429,\n",
    "    'P': 97.0528,\n",
    "    'Q': 128.0586,\n",
    "    'R': 156.1011,\n",
    "    'S': 87.032,\n",
    "    'T': 101.0477,\n",
    "    'V': 99.0684,\n",
    "    'W': 186.0793,\n",
    "    'Y': 163.0633\n",
    "    }\n",
    "    aa_masses = [np.round(L[mass + 1] - L[mass], 4) for mass in range(len(L) - 1)]\n",
    "    return(\\\n",
    "           ''.join(\\\n",
    "            [list(mono_mass_table.keys())\\\n",
    "             [list(mono_mass_table.values()).index(aa_mass)] \\\n",
    "             for aa_mass in aa_masses]))"
   ]
  },
  {
   "cell_type": "code",
   "execution_count": 154,
   "metadata": {},
   "outputs": [],
   "source": [
    "def reconstruct_peptide(L: list) -> str:\n",
    "    \"\"\"\n",
    "    Task description: http://rosalind.info/problems/full/\n",
    "    :param L: A list L containing 2n+3 positive real numbers (n≤100).\n",
    "    The first number in L is the parent mass of a peptide P,\n",
    "    and all other numbers represent the masses of some b-ions and y-ions of P (in no particular order).\n",
    "    :return: A protein string t of length n for which there exist two positive real numbers w1 and w2\n",
    "     such that for every prefix p and suffix s of t, each of w(p)+w1 and w(s)+w2 is equal to an element of L.\n",
    "    \"\"\"\n",
    "    mass_to_aa = {71.03711: 'A',\n",
    "              103.00919: 'C',\n",
    "              115.02694: 'D',\n",
    "              129.04259: 'E',\n",
    "              147.06841: 'F',\n",
    "              57.02146: 'G',\n",
    "              137.05891: 'H',\n",
    "              113.08406: 'L/I', # equal masses!\n",
    "              128.09496: 'K',\n",
    "              131.04049: 'M',\n",
    "              114.04293: 'N',\n",
    "              97.05276: 'P',\n",
    "              128.05858: 'Q',\n",
    "              156.10111: 'R',\n",
    "              87.03203: 'S',\n",
    "              101.04768: 'T',\n",
    "              150.95363: 'U',\n",
    "              99.06841: 'V',\n",
    "              186.07931: 'W',\n",
    "              163.06333: 'Y'}\n",
    "    b_y_masses = sorted(L[1:])\n",
    "    peptide = ''\n",
    "    for i in range(len(b_y_masses)):\n",
    "        for j in range(len(b_y_masses)):\n",
    "            try:\n",
    "                if len(peptide) == (len(L) - 2) // 2:\n",
    "                    return peptide\n",
    "                aa = mass_to_aa[np.round(b_y_masses[j] - b_y_masses[i], 5)]\n",
    "                if not peptide:\n",
    "                    peptide += aa\n",
    "                    prev = np.round(b_y_masses[j], 5)\n",
    "                else:\n",
    "                    if np.round(b_y_masses[i], 5) == prev:\n",
    "                        peptide += aa\n",
    "                        prev = np.round(b_y_masses[j], 5)\n",
    "            except:\n",
    "                continue"
   ]
  },
  {
   "cell_type": "markdown",
   "metadata": {},
   "source": [
    "## Inferring Protein from Spectrum "
   ]
  },
  {
   "cell_type": "code",
   "execution_count": 155,
   "metadata": {},
   "outputs": [
    {
     "name": "stdout",
     "output_type": "stream",
     "text": [
      "3524.8542 3710.9335 3841.974 3970.0326 4057.0646\n",
      "[3524.8542, 3710.9335, 3841.974, 3970.0326, 4057.0646]\n"
     ]
    }
   ],
   "source": [
    "L = list(map(float, input().split()))\n",
    "print(L)"
   ]
  },
  {
   "cell_type": "code",
   "execution_count": 156,
   "metadata": {},
   "outputs": [
    {
     "data": {
      "text/plain": [
       "'WMQS'"
      ]
     },
     "execution_count": 156,
     "metadata": {},
     "output_type": "execute_result"
    }
   ],
   "source": [
    "find_prot_seq(L)"
   ]
  },
  {
   "cell_type": "markdown",
   "metadata": {},
   "source": [
    "## Inferring Peptide from Full Spectrum"
   ]
  },
  {
   "cell_type": "code",
   "execution_count": 157,
   "metadata": {},
   "outputs": [
    {
     "name": "stdout",
     "output_type": "stream",
     "text": [
      "1988.21104821 610.391039105 738.485999105 766.492149105 863.544909105 867.528589105 992.587499105 995.623549105 1120.6824591 1124.6661391 1221.7188991 1249.7250491 1377.8200091\n",
      "[1988.21104821, 610.391039105, 738.485999105, 766.492149105, 863.544909105, 867.528589105, 992.587499105, 995.623549105, 1120.6824591, 1124.6661391, 1221.7188991, 1249.7250491, 1377.8200091]\n"
     ]
    }
   ],
   "source": [
    "L = list(map(float, input().split()))\n",
    "print(L)"
   ]
  },
  {
   "cell_type": "code",
   "execution_count": 158,
   "metadata": {},
   "outputs": [
    {
     "data": {
      "text/plain": [
       "'KEKEP'"
      ]
     },
     "execution_count": 158,
     "metadata": {},
     "output_type": "execute_result"
    }
   ],
   "source": [
    "reconstruct_peptide(L)"
   ]
  }
 ],
 "metadata": {
  "kernelspec": {
   "display_name": "Python 3",
   "language": "python",
   "name": "python3"
  },
  "language_info": {
   "codemirror_mode": {
    "name": "ipython",
    "version": 3
   },
   "file_extension": ".py",
   "mimetype": "text/x-python",
   "name": "python",
   "nbconvert_exporter": "python",
   "pygments_lexer": "ipython3",
   "version": "3.8.2"
  }
 },
 "nbformat": 4,
 "nbformat_minor": 2
}
