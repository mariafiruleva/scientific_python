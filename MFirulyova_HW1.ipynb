{
 "cells": [
  {
   "cell_type": "code",
   "execution_count": 106,
   "metadata": {},
   "outputs": [],
   "source": [
    "import re\n",
    "import requests\n",
    "from bs4 import BeautifulSoup\n",
    "from urllib.request import urlopen\n",
    "import collections"
   ]
  },
  {
   "cell_type": "code",
   "execution_count": 107,
   "metadata": {},
   "outputs": [
    {
     "data": {
      "text/plain": [
       "'abcdE'"
      ]
     },
     "execution_count": 107,
     "metadata": {},
     "output_type": "execute_result"
    }
   ],
   "source": [
    "string = 'abbcccddddEEEEE'\n",
    "re.sub(r'(\\w)\\1+', r'\\1', string)"
   ]
  },
  {
   "cell_type": "code",
   "execution_count": 108,
   "metadata": {},
   "outputs": [
    {
     "data": {
      "text/plain": [
       "'abcdE'"
      ]
     },
     "execution_count": 108,
     "metadata": {},
     "output_type": "execute_result"
    }
   ],
   "source": [
    "re.sub(r'(\\w)\\1{1,}', r'\\1', string)"
   ]
  },
  {
   "cell_type": "code",
   "execution_count": 109,
   "metadata": {},
   "outputs": [
    {
     "data": {
      "text/plain": [
       "'abcdE'"
      ]
     },
     "execution_count": 109,
     "metadata": {},
     "output_type": "execute_result"
    }
   ],
   "source": [
    "re.sub(r'([a-zA-Z])\\1{1,}', r'\\1', string)"
   ]
  },
  {
   "cell_type": "code",
   "execution_count": 110,
   "metadata": {},
   "outputs": [
    {
     "data": {
      "text/plain": [
       "'abcdE'"
      ]
     },
     "execution_count": 110,
     "metadata": {},
     "output_type": "execute_result"
    }
   ],
   "source": [
    "''.join(collections.Counter(string).keys())"
   ]
  },
  {
   "cell_type": "code",
   "execution_count": 111,
   "metadata": {},
   "outputs": [
    {
     "data": {
      "text/plain": [
       "['M. musculus', 'A. elegans', 'F. vityazi', 'C. tottoni']"
      ]
     },
     "execution_count": 111,
     "metadata": {},
     "output_type": "execute_result"
    }
   ],
   "source": [
    "inp = ['Mus musculus', 'Agalma elegans', 'Frillagalma vityazi', 'Cordagalma tottoni']\n",
    "list(map(lambda x: re.sub(r'[a-z]* ', '. ', x), inp))"
   ]
  },
  {
   "cell_type": "code",
   "execution_count": 112,
   "metadata": {},
   "outputs": [
    {
     "data": {
      "text/plain": [
       "['M.musculus_Y456', 'A.elegans_AB34', 'F.vityazi', 'C.tottoni']"
      ]
     },
     "execution_count": 112,
     "metadata": {},
     "output_type": "execute_result"
    }
   ],
   "source": [
    "inp2 = ['Mus musculus (Y456)', 'Agalma elegans (AB34)', 'Frillagalma vityazi', 'Cordagalma tottoni']\n",
    "list(map(lambda x: re.sub(r'[a-z]* ', '.', re.sub('\\)', '', re.sub(r' \\(', '_', x))), inp2))"
   ]
  },
  {
   "cell_type": "code",
   "execution_count": 113,
   "metadata": {},
   "outputs": [],
   "source": [
    "enzyme = BeautifulSoup(urlopen('https://prosite.expasy.org/PDOC00145').read().decode('utf-8'), 'html.parser')"
   ]
  },
  {
   "cell_type": "code",
   "execution_count": 114,
   "metadata": {},
   "outputs": [],
   "source": [
    "enz_id = enzyme.find_all('legend', class_='sp_tools')[0].get_text().replace(u'\\xa0', u' ')\n",
    "prosite_id = re.search(r'PS\\d*', enz_id).group(0)"
   ]
  },
  {
   "cell_type": "code",
   "execution_count": 115,
   "metadata": {},
   "outputs": [],
   "source": [
    "fasta_id = 'P0A5H4'\n",
    "fasta = requests.get(f'https://www.uniprot.org/uniprot/{fasta_id}.fasta').text"
   ]
  },
  {
   "cell_type": "code",
   "execution_count": 116,
   "metadata": {},
   "outputs": [
    {
     "data": {
      "text/plain": [
       "'>sp|P0A5H4|ACEA1_MYCBO Isocitrate lyase 1 OS=Mycobacterium bovis (strain ATCC BAA-935 / AF2122/97) OX=233413 GN=icl PE=3 SV=1\\nMSVVGTPKSAEQIQQEWDTNPRWKDVTRTYSAEDVVALQGSVVEEHTLARRGAEVLWEQL\\nHDLEWVNALGALTGNMAVQQVRAGLKAIYLSGWQVAGDANLSGHTYPDQSLYPANSVPQV\\nVRRINNALQRADQIAKIEGDTSVENWLAPIVADGEAGFGGALNVYELQKALIAAGVAGSH\\nWEDQLASEKKCGHLGGKVLIPTQQHIRTLTSARLAADVADVPTVVIARTDAEAATLITSD\\nVDERDQPFITGERTREGFYRTKNGIEPCIARAKAYAPFADLIWMETGTPDLEAARQFSEA\\nVKAEYPDQMLAYNCSPSFNWKKHLDDATIAKFQKELAAMGFKFQFITLAGFHALNYSMFD\\nLAYGYAQNQMSAYVELQEREFAAEERGYTATKHQREVGAGYFDRIATTVDPNSSTTALTG\\nSTEEGQFH\\n'"
      ]
     },
     "execution_count": 116,
     "metadata": {},
     "output_type": "execute_result"
    }
   ],
   "source": [
    "fasta"
   ]
  },
  {
   "cell_type": "code",
   "execution_count": 117,
   "metadata": {},
   "outputs": [
    {
     "data": {
      "text/plain": [
       "'MSVVGTPKSAEQIQQEWDTNPRWKDVTRTYSAEDVVALQGSVVEEHTLARRGAEVLWEQLHDLEWVNALGALTGNMAVQQVRAGLKAIYLSGWQVAGDANLSGHTYPDQSLYPANSVPQVVRRINNALQRADQIAKIEGDTSVENWLAPIVADGEAGFGGALNVYELQKALIAAGVAGSHWEDQLASEKKCGHLGGKVLIPTQQHIRTLTSARLAADVADVPTVVIARTDAEAATLITSDVDERDQPFITGERTREGFYRTKNGIEPCIARAKAYAPFADLIWMETGTPDLEAARQFSEAVKAEYPDQMLAYNCSPSFNWKKHLDDATIAKFQKELAAMGFKFQFITLAGFHALNYSMFDLAYGYAQNQMSAYVELQEREFAAEERGYTATKHQREVGAGYFDRIATTVDPNSSTTALTGSTEEGQFH'"
      ]
     },
     "execution_count": 117,
     "metadata": {},
     "output_type": "execute_result"
    }
   ],
   "source": [
    "seq = re.sub(r'>.*SV=1\\n|\\n', '', fasta)\n",
    "seq"
   ]
  },
  {
   "cell_type": "code",
   "execution_count": 118,
   "metadata": {},
   "outputs": [
    {
     "data": {
      "text/plain": [
       "'K[KR]CGH[LMQR]'"
      ]
     },
     "execution_count": 118,
     "metadata": {},
     "output_type": "execute_result"
    }
   ],
   "source": [
    "pattern = re.findall(r'Consensus pattern:\\n[^n]*\\n', enzyme.get_text())[0].strip()\n",
    "pattern = re.sub('Consensus pattern:\\n', '', pattern)\n",
    "pattern = re.sub('-', '', pattern)\n",
    "pattern"
   ]
  },
  {
   "cell_type": "code",
   "execution_count": 119,
   "metadata": {},
   "outputs": [],
   "source": [
    "pattern = f'[a-zA-Z]3{pattern}[a-zA-Z]3'\n",
    "pattern = re.sub('3', '{3}', pattern)"
   ]
  },
  {
   "cell_type": "code",
   "execution_count": 120,
   "metadata": {},
   "outputs": [
    {
     "data": {
      "text/plain": [
       "<re.Match object; span=(185, 197), match='ASEKKCGHLGGK'>"
      ]
     },
     "execution_count": 120,
     "metadata": {},
     "output_type": "execute_result"
    }
   ],
   "source": [
    "active_site = re.search(pattern, seq)\n",
    "active_site"
   ]
  },
  {
   "cell_type": "code",
   "execution_count": 121,
   "metadata": {},
   "outputs": [],
   "source": [
    "active_site = re.search(pattern, seq)\n",
    "pos = active_site.span()\n",
    "site_seq = active_site.group()\n",
    "site_seq = site_seq[:3].lower() + site_seq[3:-3] + site_seq[-3:].lower()"
   ]
  },
  {
   "cell_type": "code",
   "execution_count": 122,
   "metadata": {},
   "outputs": [
    {
     "data": {
      "text/plain": [
       "'Isocitrate lyase (P0A5H4) contains its active site (PS00161) starting from 188 position: aseKKCGHLggk'"
      ]
     },
     "execution_count": 122,
     "metadata": {},
     "output_type": "execute_result"
    }
   ],
   "source": [
    "f'Isocitrate lyase ({fasta_id}) contains its active site ({prosite_id}) starting from {pos[0] + 3} position: {site_seq}'"
   ]
  }
 ],
 "metadata": {
  "kernelspec": {
   "display_name": "Python 3",
   "language": "python",
   "name": "python3"
  },
  "language_info": {
   "codemirror_mode": {
    "name": "ipython",
    "version": 3
   },
   "file_extension": ".py",
   "mimetype": "text/x-python",
   "name": "python",
   "nbconvert_exporter": "python",
   "pygments_lexer": "ipython3",
   "version": "3.7.6"
  }
 },
 "nbformat": 4,
 "nbformat_minor": 2
}
